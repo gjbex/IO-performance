{
 "cells": [
  {
   "cell_type": "markdown",
   "id": "62cd0cd1-6e66-41d7-a95a-7272a7f696e0",
   "metadata": {},
   "source": [
    "## Requirements"
   ]
  },
  {
   "cell_type": "code",
   "execution_count": 2,
   "id": "26911638-96f8-433d-8231-56bb5c144c25",
   "metadata": {},
   "outputs": [],
   "source": [
    "from datasets import Dataset\n",
    "import pandas as pd\n",
    "from pathlib import Path"
   ]
  },
  {
   "cell_type": "markdown",
   "id": "c53e6526-68cb-4820-8744-f548e40f9e18",
   "metadata": {},
   "source": [
    "## Create dataset"
   ]
  },
  {
   "cell_type": "markdown",
   "id": "8c5ca882-3db6-4d4f-810b-c9a65fb4ae64",
   "metadata": {},
   "source": [
    "Create a list of all file names to store in the dataset.  Each of those files contains a text fragment."
   ]
  },
  {
   "cell_type": "code",
   "execution_count": 19,
   "id": "872904bb-0f2f-4439-8f78-4e7e6b339975",
   "metadata": {},
   "outputs": [],
   "source": [
    "filenames = sorted([str(path) for path in Path('tmp_seq/').glob('*.txt')])"
   ]
  },
  {
   "cell_type": "markdown",
   "id": "a237ee16-84d8-4b45-97b4-0050de2bcf90",
   "metadata": {},
   "source": [
    "The dataset can now be constructed from these file names."
   ]
  },
  {
   "cell_type": "code",
   "execution_count": 20,
   "id": "fe5b104f-20d0-4b94-a988-ebd73ff1ba18",
   "metadata": {},
   "outputs": [
    {
     "name": "stderr",
     "output_type": "stream",
     "text": [
      "Downloading data: 100%|████████████████████████████████████████████████████████████████████████████████████████████| 500/500 [00:00<00:00, 101778.79files/s]\n",
      "Generating train split: 500 examples [00:00, 4086.43 examples/s]\n"
     ]
    }
   ],
   "source": [
    "dataset = Dataset.from_text(filenames)"
   ]
  },
  {
   "cell_type": "markdown",
   "id": "ba40e257-22d8-4b43-8386-9b8b061ef246",
   "metadata": {
    "jupyter": {
     "source_hidden": true
    }
   },
   "source": [
    "The dataset consists of as many examples as there were files, and the content of the files is stored in the `text` column."
   ]
  },
  {
   "cell_type": "code",
   "execution_count": 24,
   "id": "cf64ac2c-b3ff-4ad6-a4fd-7eea51c5af18",
   "metadata": {
    "scrolled": true
   },
   "outputs": [
    {
     "data": {
      "text/plain": [
       "500"
      ]
     },
     "execution_count": 24,
     "metadata": {},
     "output_type": "execute_result"
    }
   ],
   "source": [
    "len(dataset)"
   ]
  },
  {
   "cell_type": "code",
   "execution_count": 21,
   "id": "b5893d7d-345f-4688-b0d5-339c0a3687f8",
   "metadata": {},
   "outputs": [
    {
     "data": {
      "text/plain": [
       "'ATGACCATGAAACAATTAAACGGTTTCAAACCGGGGCATACGAAAGCGGCTTTTAACTGTACGGCTGTCGACAGTATTGTTCGGCTACCTCGCGCTTGAGCCAAAAGTGCATTCACGCTGGGCTTGGCATTTTTTGTAAAGCCGTTGCGGCTCTGGCGCTCCGTTCCGGACTGAGTACACTACTTTCTCAATCTACTAATATGGCACCTACTTCGCGCGGCGATCAGACAGTCCTATTTGCGATCAGAACTACGCCTCAGGCACCGTGGCAAAGGTCACTGGCTCGGCTTACTATCGTGCTACGAGAAGATGGCCACTACCAGGAGAGAGTCATCCTAAATTAGACGCTTCGCGGGGCTATGTCACGGGCTAAAGACTTCGCCACTCCTGTACCCAATTTTCTAGCAGGATTTAAACCGCCCGTATGCGACCTAAAAGAGATGACTTGCGGCCCGAGCACAAGGTATACTCACAATCCCATTCCCACCCTCCGCTCCAGCTCGTACAAGATGGCTAGATGGA'"
      ]
     },
     "execution_count": 21,
     "metadata": {},
     "output_type": "execute_result"
    }
   ],
   "source": [
    "dataset[0]['text']"
   ]
  },
  {
   "cell_type": "markdown",
   "id": "05961457-2ad1-4a11-8b6c-426f3a787a44",
   "metadata": {},
   "source": [
    "Verify that the content of the example is that of the corresponding file."
   ]
  },
  {
   "cell_type": "code",
   "execution_count": 23,
   "id": "680bc4a0-0f3b-4df7-a337-20957e46a4b8",
   "metadata": {},
   "outputs": [
    {
     "name": "stdout",
     "output_type": "stream",
     "text": [
      "ATGACCATGAAACAATTAAACGGTTTCAAACCGGGGCATACGAAAGCGGCTTTTAACTGTACGGCTGTCGACAGTATTGTTCGGCTACCTCGCGCTTGAGCCAAAAGTGCATTCACGCTGGGCTTGGCATTTTTTGTAAAGCCGTTGCGGCTCTGGCGCTCCGTTCCGGACTGAGTACACTACTTTCTCAATCTACTAATATGGCACCTACTTCGCGCGGCGATCAGACAGTCCTATTTGCGATCAGAACTACGCCTCAGGCACCGTGGCAAAGGTCACTGGCTCGGCTTACTATCGTGCTACGAGAAGATGGCCACTACCAGGAGAGAGTCATCCTAAATTAGACGCTTCGCGGGGCTATGTCACGGGCTAAAGACTTCGCCACTCCTGTACCCAATTTTCTAGCAGGATTTAAACCGCCCGTATGCGACCTAAAAGAGATGACTTGCGGCCCGAGCACAAGGTATACTCACAATCCCATTCCCACCCTCCGCTCCAGCTCGTACAAGATGGCTAGATGGA\n"
     ]
    }
   ],
   "source": [
    "!cat {filenames[0]}"
   ]
  },
  {
   "cell_type": "markdown",
   "id": "06b1dc2a-ee12-464f-bb53-1f18d65c248e",
   "metadata": {},
   "source": [
    "Examples can have multiple features, accessible as a dictionary."
   ]
  },
  {
   "cell_type": "code",
   "execution_count": 25,
   "id": "b07dacb4-d175-4da0-93df-c49cb6cc5745",
   "metadata": {},
   "outputs": [
    {
     "data": {
      "text/plain": [
       "{'text': Value(dtype='string', id=None)}"
      ]
     },
     "execution_count": 25,
     "metadata": {},
     "output_type": "execute_result"
    }
   ],
   "source": [
    "dataset.features"
   ]
  },
  {
   "cell_type": "markdown",
   "id": "c631f473-42c9-48b0-ab37-472a0ba1a4a5",
   "metadata": {},
   "source": [
    "## Adding features"
   ]
  },
  {
   "cell_type": "markdown",
   "id": "47cff146-e411-44c0-a647-a26c6a1918d1",
   "metadata": {},
   "source": [
    "It is straightforward to add features to the data.  The features are stored in a CSV file."
   ]
  },
  {
   "cell_type": "code",
   "execution_count": 27,
   "id": "07f37cc0-f4b7-46eb-bc23-eeecdd2aa7f5",
   "metadata": {},
   "outputs": [],
   "source": [
    "labels = pd.read_csv('tmp_seq_labels.csv')"
   ]
  },
  {
   "cell_type": "code",
   "execution_count": 35,
   "id": "aa23c98c-94a6-43d2-95ae-61c6bc53e445",
   "metadata": {},
   "outputs": [],
   "source": [
    "class_0 = labels[['filename', 'class_0']].sort_values('filename')['class_0'].to_list()"
   ]
  },
  {
   "cell_type": "code",
   "execution_count": 37,
   "id": "ea211648-e524-4e73-94dc-898b172e6fe3",
   "metadata": {},
   "outputs": [],
   "source": [
    "class_1 = labels[['filename', 'class_1']].sort_values('filename')['class_1'].to_list()"
   ]
  },
  {
   "cell_type": "code",
   "execution_count": 38,
   "id": "c3def3bc-5013-4c44-bfec-aa78aca70a98",
   "metadata": {},
   "outputs": [],
   "source": [
    "dataset = dataset.add_column('class_0', class_0).add_column('class_1', class_1)"
   ]
  },
  {
   "cell_type": "code",
   "execution_count": 39,
   "id": "febfca1f-bf57-4747-bc5d-874f2a8e61d3",
   "metadata": {},
   "outputs": [
    {
     "data": {
      "text/plain": [
       "{'text': Value(dtype='string', id=None),\n",
       " 'class_0': Value(dtype='int64', id=None),\n",
       " 'class_1': Value(dtype='string', id=None)}"
      ]
     },
     "execution_count": 39,
     "metadata": {},
     "output_type": "execute_result"
    }
   ],
   "source": [
    "dataset.features"
   ]
  },
  {
   "cell_type": "markdown",
   "id": "e2c393d2-9275-4e10-a634-787c9aaba6ee",
   "metadata": {},
   "source": [
    "An example now contains both the data and the features."
   ]
  },
  {
   "cell_type": "code",
   "execution_count": 40,
   "id": "bbc2fc2b-8c35-484f-bb9a-977d46b08e10",
   "metadata": {},
   "outputs": [
    {
     "data": {
      "text/plain": [
       "{'text': 'ATGACCATGAAACAATTAAACGGTTTCAAACCGGGGCATACGAAAGCGGCTTTTAACTGTACGGCTGTCGACAGTATTGTTCGGCTACCTCGCGCTTGAGCCAAAAGTGCATTCACGCTGGGCTTGGCATTTTTTGTAAAGCCGTTGCGGCTCTGGCGCTCCGTTCCGGACTGAGTACACTACTTTCTCAATCTACTAATATGGCACCTACTTCGCGCGGCGATCAGACAGTCCTATTTGCGATCAGAACTACGCCTCAGGCACCGTGGCAAAGGTCACTGGCTCGGCTTACTATCGTGCTACGAGAAGATGGCCACTACCAGGAGAGAGTCATCCTAAATTAGACGCTTCGCGGGGCTATGTCACGGGCTAAAGACTTCGCCACTCCTGTACCCAATTTTCTAGCAGGATTTAAACCGCCCGTATGCGACCTAAAAGAGATGACTTGCGGCCCGAGCACAAGGTATACTCACAATCCCATTCCCACCCTCCGCTCCAGCTCGTACAAGATGGCTAGATGGA',\n",
       " 'class_0': 0,\n",
       " 'class_1': 'H'}"
      ]
     },
     "execution_count": 40,
     "metadata": {},
     "output_type": "execute_result"
    }
   ],
   "source": [
    "dataset[0]"
   ]
  },
  {
   "cell_type": "markdown",
   "id": "9e06cc2b-c1a0-4444-b489-c6829ebff74f",
   "metadata": {},
   "source": [
    "Verifying that the features are correctly assigned."
   ]
  },
  {
   "cell_type": "code",
   "execution_count": 41,
   "id": "7e1a14a9-f803-4e54-920f-0b8ed8100d19",
   "metadata": {},
   "outputs": [
    {
     "data": {
      "text/html": [
       "<div>\n",
       "<style scoped>\n",
       "    .dataframe tbody tr th:only-of-type {\n",
       "        vertical-align: middle;\n",
       "    }\n",
       "\n",
       "    .dataframe tbody tr th {\n",
       "        vertical-align: top;\n",
       "    }\n",
       "\n",
       "    .dataframe thead th {\n",
       "        text-align: right;\n",
       "    }\n",
       "</style>\n",
       "<table border=\"1\" class=\"dataframe\">\n",
       "  <thead>\n",
       "    <tr style=\"text-align: right;\">\n",
       "      <th></th>\n",
       "      <th>filename</th>\n",
       "      <th>class_0</th>\n",
       "      <th>class_1</th>\n",
       "    </tr>\n",
       "  </thead>\n",
       "  <tbody>\n",
       "    <tr>\n",
       "      <th>305</th>\n",
       "      <td>tmp_seq/seq000001.txt</td>\n",
       "      <td>0</td>\n",
       "      <td>H</td>\n",
       "    </tr>\n",
       "    <tr>\n",
       "      <th>333</th>\n",
       "      <td>tmp_seq/seq000002.txt</td>\n",
       "      <td>1</td>\n",
       "      <td>J</td>\n",
       "    </tr>\n",
       "    <tr>\n",
       "      <th>412</th>\n",
       "      <td>tmp_seq/seq000003.txt</td>\n",
       "      <td>0</td>\n",
       "      <td>H</td>\n",
       "    </tr>\n",
       "    <tr>\n",
       "      <th>59</th>\n",
       "      <td>tmp_seq/seq000004.txt</td>\n",
       "      <td>0</td>\n",
       "      <td>C</td>\n",
       "    </tr>\n",
       "    <tr>\n",
       "      <th>481</th>\n",
       "      <td>tmp_seq/seq000005.txt</td>\n",
       "      <td>0</td>\n",
       "      <td>C</td>\n",
       "    </tr>\n",
       "  </tbody>\n",
       "</table>\n",
       "</div>"
      ],
      "text/plain": [
       "                  filename  class_0 class_1\n",
       "305  tmp_seq/seq000001.txt        0       H\n",
       "333  tmp_seq/seq000002.txt        1       J\n",
       "412  tmp_seq/seq000003.txt        0       H\n",
       "59   tmp_seq/seq000004.txt        0       C\n",
       "481  tmp_seq/seq000005.txt        0       C"
      ]
     },
     "execution_count": 41,
     "metadata": {},
     "output_type": "execute_result"
    }
   ],
   "source": [
    "labels.sort_values('filename').head()"
   ]
  },
  {
   "cell_type": "markdown",
   "id": "e8a8bf44-04bc-4281-9c06-1da94ffb316c",
   "metadata": {},
   "source": [
    "A dataset can be saved to Arrow format which is a directory with an Arrow file containing the data and a number of files containing metadata."
   ]
  },
  {
   "cell_type": "code",
   "execution_count": 42,
   "id": "9e519fdc-72b1-4727-ba75-fe9ceba527d6",
   "metadata": {},
   "outputs": [
    {
     "name": "stderr",
     "output_type": "stream",
     "text": [
      "Saving the dataset (1/1 shards): 100%|██████████████████████████████████████████████████████████████████████████| 500/500 [00:00<00:00, 32461.64 examples/s]\n"
     ]
    }
   ],
   "source": [
    "dataset.save_to_disk('tmp_seq.arrow')"
   ]
  },
  {
   "cell_type": "markdown",
   "id": "4249a626-84e5-4b7c-9552-ffdd5c1ac92e",
   "metadata": {},
   "source": [
    "## Loading Arrow files"
   ]
  },
  {
   "cell_type": "markdown",
   "id": "cca7f2a9-9ee7-46f4-b5a1-722cce2c4329",
   "metadata": {},
   "source": [
    "The data can easily be reloaded using the `load_from_disk` function."
   ]
  },
  {
   "cell_type": "code",
   "execution_count": 2,
   "id": "2926bf53-2ccb-442a-bdf6-0e2d20e0c0c8",
   "metadata": {},
   "outputs": [],
   "source": [
    "d = Dataset.load_from_disk('tmp_seq.arrow', )"
   ]
  },
  {
   "cell_type": "markdown",
   "id": "e3aff557-d380-492b-8087-55b2bb2c5b5a",
   "metadata": {},
   "source": [
    "Verify that the examples contain the expected data and metadata."
   ]
  },
  {
   "cell_type": "code",
   "execution_count": 3,
   "id": "5e5270ff-c6f0-43fc-a2c0-1ab4162d40b6",
   "metadata": {},
   "outputs": [
    {
     "data": {
      "text/plain": [
       "{'text': Value(dtype='string', id=None),\n",
       " 'class_0': Value(dtype='int64', id=None),\n",
       " 'class_1': Value(dtype='string', id=None)}"
      ]
     },
     "execution_count": 3,
     "metadata": {},
     "output_type": "execute_result"
    }
   ],
   "source": [
    "d.features"
   ]
  },
  {
   "cell_type": "code",
   "execution_count": 4,
   "id": "a68aed93-cf81-4f3a-9ee3-3479c5abc601",
   "metadata": {},
   "outputs": [
    {
     "data": {
      "text/plain": [
       "500"
      ]
     },
     "execution_count": 4,
     "metadata": {},
     "output_type": "execute_result"
    }
   ],
   "source": [
    "len(d)"
   ]
  },
  {
   "cell_type": "code",
   "execution_count": 5,
   "id": "142037a7-bd08-4dae-b671-427925f6ba19",
   "metadata": {},
   "outputs": [
    {
     "data": {
      "text/plain": [
       "{'text': 'ATGACCATGAAACAATTAAACGGTTTCAAACCGGGGCATACGAAAGCGGCTTTTAACTGTACGGCTGTCGACAGTATTGTTCGGCTACCTCGCGCTTGAGCCAAAAGTGCATTCACGCTGGGCTTGGCATTTTTTGTAAAGCCGTTGCGGCTCTGGCGCTCCGTTCCGGACTGAGTACACTACTTTCTCAATCTACTAATATGGCACCTACTTCGCGCGGCGATCAGACAGTCCTATTTGCGATCAGAACTACGCCTCAGGCACCGTGGCAAAGGTCACTGGCTCGGCTTACTATCGTGCTACGAGAAGATGGCCACTACCAGGAGAGAGTCATCCTAAATTAGACGCTTCGCGGGGCTATGTCACGGGCTAAAGACTTCGCCACTCCTGTACCCAATTTTCTAGCAGGATTTAAACCGCCCGTATGCGACCTAAAAGAGATGACTTGCGGCCCGAGCACAAGGTATACTCACAATCCCATTCCCACCCTCCGCTCCAGCTCGTACAAGATGGCTAGATGGA',\n",
       " 'class_0': 0,\n",
       " 'class_1': 'H'}"
      ]
     },
     "execution_count": 5,
     "metadata": {},
     "output_type": "execute_result"
    }
   ],
   "source": [
    "d[0]"
   ]
  },
  {
   "cell_type": "code",
   "execution_count": 6,
   "id": "a2620f4b-e39c-40e7-9929-0321ec31fe9e",
   "metadata": {},
   "outputs": [
    {
     "data": {
      "text/plain": [
       "{'text': 'CGCCTGTTACAGGGTGACTTCACCGCAATTTTAGTGCGACTCCCGACGCTCCCACGAGCCAAAAACCGGGTAGCGAAGTGATTAGTAAACGTGTACCGATTGTCAGCAGCATAATGGGTTTAGTTGATCTGAGGTTGGTAGCCATGCGATCGGTCACAACTAGCCTTATAGTGGAATCGGATGCGAGCAGAACGGAAGGAGATGGTGATCCGCCCGAGGCCGCCAACATAAATTTACTACAATACCTTGATTAGACATTGCGTCACGGCTGCCCGGCATTGGACTGAACGTCGGTACGATCTATTTCAAATTACCTCAGCCGATGGAGTAGGCTCGGCATCCCAACGCAAGCAATCGATCGACCACTCGAGTGCAGTTAGAGCACCCAGTTCGCGAGGCCTTTGATCACACCTTGTTATATAGCATCTCAATGTATGTGCCTTCCTCGCGGTGAGATTTCGGACAATAACGCTTGTTGAGTTTTACATAGGACCCGTGGTCCTTGATAACGTTCGTGGGACGTCGACCCTAGGTAAGTCTAAGAAACATTGGACAATGATGTCCTAATGATTACACACTTTTGATCAGAGTGGTCTTAGGCCGTATGCGATGCAGAGCTACAGGTCCTATCTAGAGGGCCACCTTGCCCCCAGCTGCTCTCCTTGCTGTCCACAAAATCTTCGCTTTACGGATTATGCAGGAGCTCATCTGCATCAGAGCAGTGTGACTCATTTCATCGAGGGTCCAAGGTCTTTTCCATGGGGTAAGGTGATCCGCACGGTAAAACGCAATAATAATTGATTGGGTAACGCTTGCAAACGCATTTGCCCGCGGTGACTACGTATT',\n",
       " 'class_0': 1,\n",
       " 'class_1': 'F'}"
      ]
     },
     "execution_count": 6,
     "metadata": {},
     "output_type": "execute_result"
    }
   ],
   "source": [
    "d[-1]"
   ]
  }
 ],
 "metadata": {
  "kernelspec": {
   "display_name": "Python 3 (ipykernel)",
   "language": "python",
   "name": "python3"
  },
  "language_info": {
   "codemirror_mode": {
    "name": "ipython",
    "version": 3
   },
   "file_extension": ".py",
   "mimetype": "text/x-python",
   "name": "python",
   "nbconvert_exporter": "python",
   "pygments_lexer": "ipython3",
   "version": "3.12.5"
  }
 },
 "nbformat": 4,
 "nbformat_minor": 5
}
