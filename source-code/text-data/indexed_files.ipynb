{
 "cells": [
  {
   "cell_type": "code",
   "execution_count": 1,
   "id": "e093796d-65eb-40f3-b252-dc9c1e47dbab",
   "metadata": {},
   "outputs": [],
   "source": [
    "%load_ext autoreload\n",
    "%autoreload 2"
   ]
  },
  {
   "cell_type": "code",
   "execution_count": 20,
   "id": "9974e5ce-8fb0-49fb-8c3a-7c73067e59fa",
   "metadata": {},
   "outputs": [],
   "source": [
    "import random\n",
    "from text_index import TextIndex"
   ]
  },
  {
   "cell_type": "code",
   "execution_count": 11,
   "id": "9281915a-c9c2-4744-b611-421a7539f67b",
   "metadata": {},
   "outputs": [],
   "source": [
    "index = TextIndex('dna.txt')"
   ]
  },
  {
   "cell_type": "code",
   "execution_count": 12,
   "id": "7844512f-35fc-4241-8dbf-fe2507b3b90a",
   "metadata": {},
   "outputs": [
    {
     "data": {
      "text/plain": [
       "20"
      ]
     },
     "execution_count": 12,
     "metadata": {},
     "output_type": "execute_result"
    }
   ],
   "source": [
    "len(index)"
   ]
  },
  {
   "cell_type": "code",
   "execution_count": 17,
   "id": "266a1e93-ee7c-4dbe-be07-181d37e5ae63",
   "metadata": {},
   "outputs": [
    {
     "data": {
      "text/plain": [
       "'ACGCTACGGGACCGGGAAGTATATACCAATACGACGGTCAATAGGTGCATACTAGTTTAGGCCGTTTTTCA\\n'"
      ]
     },
     "execution_count": 17,
     "metadata": {},
     "output_type": "execute_result"
    }
   ],
   "source": [
    "index.read_text(19)"
   ]
  },
  {
   "cell_type": "code",
   "execution_count": 19,
   "id": "906211b6-bc81-44df-8479-e9967885b11a",
   "metadata": {},
   "outputs": [
    {
     "name": "stdout",
     "output_type": "stream",
     "text": [
      "ACGCTACGGGACCGGGAAGTATATACCAATACGACGGTCAATAGGTGCATACTAGTTTAGGCCGTTTTTCA\n"
     ]
    }
   ],
   "source": [
    "!cat dna/seq018.txt"
   ]
  },
  {
   "cell_type": "code",
   "execution_count": 16,
   "id": "a534348c-55d2-4318-9cb3-01da8bb529a4",
   "metadata": {},
   "outputs": [
    {
     "data": {
      "text/plain": [
       "'TGCGCAGTTAATACGCTCTCTTCTGGTGAAA\\n'"
      ]
     },
     "execution_count": 16,
     "metadata": {},
     "output_type": "execute_result"
    }
   ],
   "source": [
    "index.read_text('seq001.txt')"
   ]
  },
  {
   "cell_type": "code",
   "execution_count": 27,
   "id": "34e8cf96-82a9-47e9-8f59-1a2be03266ea",
   "metadata": {
    "scrolled": true
   },
   "outputs": [
    {
     "data": {
      "text/plain": [
       "{'seq004.txt': FileIndex(offset=0, nr_bytes=30),\n",
       " 'seq006.txt': FileIndex(offset=30, nr_bytes=77),\n",
       " 'seq008.txt': FileIndex(offset=107, nr_bytes=46),\n",
       " 'seq003.txt': FileIndex(offset=153, nr_bytes=22),\n",
       " 'seq009.txt': FileIndex(offset=175, nr_bytes=21),\n",
       " 'seq001.txt': FileIndex(offset=196, nr_bytes=32),\n",
       " 'seq002.txt': FileIndex(offset=228, nr_bytes=33),\n",
       " 'seq020.txt': FileIndex(offset=261, nr_bytes=16),\n",
       " 'seq013.txt': FileIndex(offset=277, nr_bytes=27),\n",
       " 'seq011.txt': FileIndex(offset=304, nr_bytes=25),\n",
       " 'seq015.txt': FileIndex(offset=329, nr_bytes=26),\n",
       " 'seq007.txt': FileIndex(offset=355, nr_bytes=6),\n",
       " 'seq014.txt': FileIndex(offset=361, nr_bytes=41),\n",
       " 'seq010.txt': FileIndex(offset=402, nr_bytes=5),\n",
       " 'seq005.txt': FileIndex(offset=407, nr_bytes=31),\n",
       " 'seq019.txt': FileIndex(offset=438, nr_bytes=41),\n",
       " 'seq016.txt': FileIndex(offset=479, nr_bytes=4),\n",
       " 'seq012.txt': FileIndex(offset=483, nr_bytes=38),\n",
       " 'seq017.txt': FileIndex(offset=521, nr_bytes=59),\n",
       " 'seq018.txt': FileIndex(offset=580, nr_bytes=72)}"
      ]
     },
     "execution_count": 27,
     "metadata": {},
     "output_type": "execute_result"
    }
   ],
   "source": [
    "index._index"
   ]
  },
  {
   "cell_type": "code",
   "execution_count": 28,
   "id": "fed41406-4a91-4f4d-b5c2-41b804532cbe",
   "metadata": {
    "scrolled": true
   },
   "outputs": [
    {
     "name": "stdout",
     "output_type": "stream",
     "text": [
      "1.67 ms ± 70.5 μs per loop (mean ± std. dev. of 7 runs, 1,000 loops each)\n"
     ]
    }
   ],
   "source": [
    "%%timeit\n",
    "random.seed(1234)\n",
    "total_len = 0\n",
    "with TextIndex('dna.txt') as index:\n",
    "    for _ in range(1000):\n",
    "        idx = random.randrange(0, len(index))\n",
    "        text = index.read_text(idx)\n",
    "        total_len += len(text)"
   ]
  },
  {
   "cell_type": "code",
   "execution_count": 29,
   "id": "2af18509-36e6-45c8-8b99-0037a6ddc5d0",
   "metadata": {},
   "outputs": [
    {
     "data": {
      "text/plain": [
       "33304"
      ]
     },
     "execution_count": 29,
     "metadata": {},
     "output_type": "execute_result"
    }
   ],
   "source": [
    "total_len"
   ]
  },
  {
   "cell_type": "code",
   "execution_count": 30,
   "id": "305c3f8d-1af7-4e0b-91af-a73c051c8f51",
   "metadata": {},
   "outputs": [
    {
     "name": "stdout",
     "output_type": "stream",
     "text": [
      "10.2 ms ± 167 μs per loop (mean ± std. dev. of 7 runs, 100 loops each)\n"
     ]
    }
   ],
   "source": [
    "%%timeit\n",
    "random.seed(1234)\n",
    "total_len = 0\n",
    "for _ in range(1000):\n",
    "    idx = random.randint(1, len(index))\n",
    "    with open(f'dna/seq{idx:03d}.txt') as file:\n",
    "        text = file.read()\n",
    "        total_len += len(text)"
   ]
  },
  {
   "cell_type": "code",
   "execution_count": 31,
   "id": "517605a6-f50b-4c74-9930-b9ee5fcb72d8",
   "metadata": {},
   "outputs": [
    {
     "data": {
      "text/plain": [
       "33304"
      ]
     },
     "execution_count": 31,
     "metadata": {},
     "output_type": "execute_result"
    }
   ],
   "source": [
    "total_len"
   ]
  },
  {
   "cell_type": "code",
   "execution_count": null,
   "id": "56e7b0e4-4206-48ee-b90e-f7b623b8c148",
   "metadata": {},
   "outputs": [],
   "source": []
  }
 ],
 "metadata": {
  "kernelspec": {
   "display_name": "Python 3 (ipykernel)",
   "language": "python",
   "name": "python3"
  },
  "language_info": {
   "codemirror_mode": {
    "name": "ipython",
    "version": 3
   },
   "file_extension": ".py",
   "mimetype": "text/x-python",
   "name": "python",
   "nbconvert_exporter": "python",
   "pygments_lexer": "ipython3",
   "version": "3.12.5"
  }
 },
 "nbformat": 4,
 "nbformat_minor": 5
}
